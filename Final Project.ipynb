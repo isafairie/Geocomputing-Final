{
 "cells": [
  {
   "cell_type": "markdown",
   "metadata": {
    "id": "eZ6V5VLe1GDS"
   },
   "source": [
    "# Title: MVP 3\n",
    "\n",
    "Miles Jungclaus, Mia Schwartz, & Isabel O'Grady | jungc023@umn.edu, schw2353@umn.edu, & ograd054@umn.edu\n",
    "\n",
    "### Description\n",
    "This MVP aims to provide basic functionality for determining the weather conditions at MSP Airport (i.e., temperature). The weather conditions provide the basis for determining sites for future solar planels for our final project. For example, solar panels should be placed in areas with higher than average insolation (incoming solar radiation) rather than lower than average insolation."
   ]
  },
  {
   "cell_type": "markdown",
   "metadata": {
    "id": "jFQsyQxF1GDU",
    "tags": []
   },
   "source": [
    "## 1. Design Framework\n",
    "\n",
    "### 1.1. Problem Statement\n",
    "This MVP aims to synthesize solar and temperature data to determine ideal sites for solar panels. Our primary goal is to locate solar panels in lower-income areas, to facilitate the development of a more sustainable and beautiful world with accessible energy costs for all.\n",
    "\n",
    "### 1.2. Solution\n",
    "In order to provide additional, renewable energy sources to neighborhoods with below-average socioeconomic statuses, solar panels could serve as an effective solution. The siting of the solar panels will be facilitated with the acquisition of appropriate data, which will be processed within a geospatial computing system to properly site future solar panels.\n",
    "\n",
    "### 1.3. Challenge\n",
    "Importing data seems to be one of our larger contenders but so far we have seen good success in being able to properly import and display said data. We are working well together as a team, and anticipate a successful final result for our project."
   ]
  },
  {
   "cell_type": "markdown",
   "metadata": {},
   "source": [
    "### 1.4 Spec list\n",
    "\n",
    "Fill in the spec list table below.\n",
    "  * Value: (H)igh, (M)edium, (L)ow\n",
    "  * Effort: (H)igh, (M)edium, (L)ow\n",
    "  * Feature: Brief description of the feature\n",
    "\n",
    "\n",
    "| Value | Effort  | Feature    | \n",
    "|:------|:--------|:-----------|\n",
    "| H     | H      | Ability to import and display data |\n",
    "| H     | M      | Display data on Folium  |\n",
    "| M     | H      | Acquire appropriate weather and temperture data |\n",
    "| M     | M      | Enable widget functionality |\n",
    "| L     | L      | Add in interactivity within the map |\n",
    "| M     | L      | Input statements which process string data |"
   ]
  },
  {
   "cell_type": "markdown",
   "metadata": {
    "id": "y2tXirb-1GDU"
   },
   "source": [
    "___\n",
    "\n",
    "# 2. Minimal Viable Product"
   ]
  },
  {
   "cell_type": "markdown",
   "metadata": {
    "id": "BEMcvCAq1GDU"
   },
   "source": [
    "## 2.1. Setup & Installation\n",
    "\n",
    "In the code cell below, you will write all your import and load statements for the packages and data needed for your project."
   ]
  },
  {
   "cell_type": "code",
   "execution_count": 9,
   "metadata": {
    "id": "ix8r8pHx1GDV"
   },
   "outputs": [],
   "source": [
    "# Import Packages you need\n",
    "\n",
    "import numpy as np\n",
    "import ipywidgets as widgets\n",
    "from ipywidgets import interact\n",
    "from IPython.display import display\n",
    "import requests\n",
    "import folium\n",
    "import requests\n",
    "from bs4 import BeautifulSoup\n",
    "import glob\n",
    "import pandas\n",
    "import os\n",
    "import rasterio\n",
    "import geopandas as gpd\n",
    "import matplotlib.pyplot as plt"
   ]
  },
  {
   "cell_type": "markdown",
   "metadata": {
    "id": "Ati4WcPQ1GDV"
   },
   "source": [
    "## 2.2. Functions\n",
    "Add all your data processing functionality here."
   ]
  },
  {
   "cell_type": "code",
   "execution_count": 10,
   "metadata": {},
   "outputs": [
    {
     "ename": "RasterioIOError",
     "evalue": "path/to/your/image/file.tif: No such file or directory",
     "output_type": "error",
     "traceback": [
      "\u001b[0;31m---------------------------------------------------------------------------\u001b[0m",
      "\u001b[0;31mCPLE_OpenFailedError\u001b[0m                      Traceback (most recent call last)",
      "\u001b[0;32mrasterio/_base.pyx\u001b[0m in \u001b[0;36mrasterio._base.DatasetBase.__init__\u001b[0;34m()\u001b[0m\n",
      "\u001b[0;32mrasterio/_shim.pyx\u001b[0m in \u001b[0;36mrasterio._shim.open_dataset\u001b[0;34m()\u001b[0m\n",
      "\u001b[0;32mrasterio/_err.pyx\u001b[0m in \u001b[0;36mrasterio._err.exc_wrap_pointer\u001b[0;34m()\u001b[0m\n",
      "\u001b[0;31mCPLE_OpenFailedError\u001b[0m: path/to/your/image/file.tif: No such file or directory",
      "\nDuring handling of the above exception, another exception occurred:\n",
      "\u001b[0;31mRasterioIOError\u001b[0m                           Traceback (most recent call last)",
      "\u001b[0;32m/tmp/ipykernel_86/3444199810.py\u001b[0m in \u001b[0;36m<module>\u001b[0;34m\u001b[0m\n\u001b[1;32m     85\u001b[0m \u001b[0mfile_single\u001b[0m \u001b[0;34m=\u001b[0m \u001b[0;34m\"path/to/your/image/file.tif\"\u001b[0m\u001b[0;34m\u001b[0m\u001b[0;34m\u001b[0m\u001b[0m\n\u001b[1;32m     86\u001b[0m \u001b[0;31m# Open the image file using rasterio\u001b[0m\u001b[0;34m\u001b[0m\u001b[0;34m\u001b[0m\u001b[0m\n\u001b[0;32m---> 87\u001b[0;31m \u001b[0mimg_single_opened\u001b[0m \u001b[0;34m=\u001b[0m \u001b[0mrasterio\u001b[0m\u001b[0;34m.\u001b[0m\u001b[0mopen\u001b[0m\u001b[0;34m(\u001b[0m\u001b[0mfile_single\u001b[0m\u001b[0;34m)\u001b[0m\u001b[0;34m\u001b[0m\u001b[0;34m\u001b[0m\u001b[0m\n\u001b[0m\u001b[1;32m     88\u001b[0m \u001b[0;31m# Obtain the image data\u001b[0m\u001b[0;34m\u001b[0m\u001b[0;34m\u001b[0m\u001b[0m\n\u001b[1;32m     89\u001b[0m \u001b[0mimg_array\u001b[0m \u001b[0;34m=\u001b[0m \u001b[0mimg_single_opened\u001b[0m\u001b[0;34m.\u001b[0m\u001b[0mread\u001b[0m\u001b[0;34m(\u001b[0m\u001b[0;34m)\u001b[0m\u001b[0;34m\u001b[0m\u001b[0;34m\u001b[0m\u001b[0m\n",
      "\u001b[0;32m/opt/conda/lib/python3.9/site-packages/rasterio/env.py\u001b[0m in \u001b[0;36mwrapper\u001b[0;34m(*args, **kwds)\u001b[0m\n\u001b[1;32m    435\u001b[0m \u001b[0;34m\u001b[0m\u001b[0m\n\u001b[1;32m    436\u001b[0m         \u001b[0;32mwith\u001b[0m \u001b[0menv_ctor\u001b[0m\u001b[0;34m(\u001b[0m\u001b[0msession\u001b[0m\u001b[0;34m=\u001b[0m\u001b[0msession\u001b[0m\u001b[0;34m)\u001b[0m\u001b[0;34m:\u001b[0m\u001b[0;34m\u001b[0m\u001b[0;34m\u001b[0m\u001b[0m\n\u001b[0;32m--> 437\u001b[0;31m             \u001b[0;32mreturn\u001b[0m \u001b[0mf\u001b[0m\u001b[0;34m(\u001b[0m\u001b[0;34m*\u001b[0m\u001b[0margs\u001b[0m\u001b[0;34m,\u001b[0m \u001b[0;34m**\u001b[0m\u001b[0mkwds\u001b[0m\u001b[0;34m)\u001b[0m\u001b[0;34m\u001b[0m\u001b[0;34m\u001b[0m\u001b[0m\n\u001b[0m\u001b[1;32m    438\u001b[0m \u001b[0;34m\u001b[0m\u001b[0m\n\u001b[1;32m    439\u001b[0m     \u001b[0;32mreturn\u001b[0m \u001b[0mwrapper\u001b[0m\u001b[0;34m\u001b[0m\u001b[0;34m\u001b[0m\u001b[0m\n",
      "\u001b[0;32m/opt/conda/lib/python3.9/site-packages/rasterio/__init__.py\u001b[0m in \u001b[0;36mopen\u001b[0;34m(fp, mode, driver, width, height, count, crs, transform, dtype, nodata, sharing, **kwargs)\u001b[0m\n\u001b[1;32m    218\u001b[0m         \u001b[0;31m# None.\u001b[0m\u001b[0;34m\u001b[0m\u001b[0;34m\u001b[0m\u001b[0m\n\u001b[1;32m    219\u001b[0m         \u001b[0;32mif\u001b[0m \u001b[0mmode\u001b[0m \u001b[0;34m==\u001b[0m \u001b[0;34m'r'\u001b[0m\u001b[0;34m:\u001b[0m\u001b[0;34m\u001b[0m\u001b[0;34m\u001b[0m\u001b[0m\n\u001b[0;32m--> 220\u001b[0;31m             \u001b[0ms\u001b[0m \u001b[0;34m=\u001b[0m \u001b[0mDatasetReader\u001b[0m\u001b[0;34m(\u001b[0m\u001b[0mpath\u001b[0m\u001b[0;34m,\u001b[0m \u001b[0mdriver\u001b[0m\u001b[0;34m=\u001b[0m\u001b[0mdriver\u001b[0m\u001b[0;34m,\u001b[0m \u001b[0msharing\u001b[0m\u001b[0;34m=\u001b[0m\u001b[0msharing\u001b[0m\u001b[0;34m,\u001b[0m \u001b[0;34m**\u001b[0m\u001b[0mkwargs\u001b[0m\u001b[0;34m)\u001b[0m\u001b[0;34m\u001b[0m\u001b[0;34m\u001b[0m\u001b[0m\n\u001b[0m\u001b[1;32m    221\u001b[0m         \u001b[0;32melif\u001b[0m \u001b[0mmode\u001b[0m \u001b[0;34m==\u001b[0m \u001b[0;34m\"r+\"\u001b[0m\u001b[0;34m:\u001b[0m\u001b[0;34m\u001b[0m\u001b[0;34m\u001b[0m\u001b[0m\n\u001b[1;32m    222\u001b[0m             s = get_writer_for_path(path, driver=driver)(\n",
      "\u001b[0;32mrasterio/_base.pyx\u001b[0m in \u001b[0;36mrasterio._base.DatasetBase.__init__\u001b[0;34m()\u001b[0m\n",
      "\u001b[0;31mRasterioIOError\u001b[0m: path/to/your/image/file.tif: No such file or directory"
     ]
    }
   ],
   "source": [
    "#Base Map centered on MSP\n",
    "MSP_marker_coordinates = [44.886432909585096, -93.21572309331059]\n",
    "MSP_map = folium.Map(location=MSP_marker_coordinates, zoom_start=11) # Create map\n",
    "# Add the marker\n",
    "folium.Marker(location=MSP_marker_coordinates, popup=\"MSP Airport\").add_to(MSP_map) # Add the Marker\n",
    "MSP_map\n",
    "\n",
    "# Select the data you would like to display on the Folium map\n",
    "def select_data():\n",
    "    data = widgets.Dropdown(\n",
    "        options=['UV Levels', 'Surface Albedo', 'Surface Temperature', 'Population'],\n",
    "        description='Select data:',\n",
    "        disabled=False\n",
    "    )\n",
    "\n",
    "    display(data)\n",
    "    \n",
    "#Define UV Levels\n",
    "def get_minneapolis_uv_data():\n",
    "    url = \"https://www.cpc.ncep.noaa.gov/products/stratosphere/uv_index/uv_alert.shtml\"\n",
    "    response = requests.get(url)\n",
    "    if response.status_code == 200:\n",
    "        soup = BeautifulSoup(response.content, 'html.parser')\n",
    "        # Parse HTML content to extract UV Data for Minneapolis\n",
    "        # Need to implement based on the structure of the webpage\n",
    "        minneapolis_uv_index = 0 #Placeholder Value\n",
    "        return minneapolis_uv_index\n",
    "    else:\n",
    "        print(\"Failed to fetch UV data\")\n",
    "        return None\n",
    "    \n",
    "#Fetch Minneapolis UV Data\n",
    "minneapolis_uv_index = get_minneapolis_uv_data()\n",
    "\n",
    "#Create UV Layers\n",
    "uv_layer = folium.TileLayer(\n",
    "    tiles='https://www.cpc.ncep.noaa.gov/products/stratosphere/uv_index/uv_alert.shtml',\n",
    "    attr='OpenUV',\n",
    "    name='UV Index',  # Corrected parameter name\n",
    "    overlay=True,\n",
    "    control=True,\n",
    ")\n",
    "\n",
    "# While our code for uv data runs, we are unable to figure out how to get the code to extract the data from the noaa website.\n",
    "# We are going to be figuring out an alternative method for extracting uv data for this map. Apologies for the inconvenience!\n",
    "\n",
    "# Our goal is to eventually be able to obtain past data to show changes in weather patterns with the days\n",
    "# def pick_date():\n",
    "    # date = widgets.DatePicker(\n",
    "        # description='Pick a Date',\n",
    "        # disabled=False)\n",
    "    # display(date)\n",
    "    \n",
    "# def print_results(city, date):\n",
    "    # print(\"Selected City:\", city.value)\n",
    "    # print(\"Selected Date:\", date.value)\n",
    "    \n",
    "# Obtain live temperature data\n",
    "def get_minneapolis_temperature(api_key):\n",
    "    url = f\"http://api.openweathermap.org/data/2.5/weather?q=Minneapolis&appid={api_key}&units=metric\"\n",
    "    response = requests.get(url)\n",
    "    data = response.json()\n",
    "    if response.status_code == 200:\n",
    "        temperature = data['main']['temp']\n",
    "        return temperature\n",
    "    else:\n",
    "        print(\"Error fetching data:\", data['message'])\n",
    "        return None\n",
    "\n",
    "# Define the API key outside the function\n",
    "api_key = 'c2b662acde41806825c8037610127f02'\n",
    "\n",
    "# Call the function with the API key\n",
    "temperature = get_minneapolis_temperature(api_key)\n",
    "    \n",
    "def fahrenheit_temperature(api_key):\n",
    "    temp_answer = input(\"Would you like to know the temperature in Fahrenheit? Answer 'yes' or 'no'\")\n",
    "    if temp_answer.lower() == \"yes\":\n",
    "        temp_fahrenheit = (temperature * 1.8) + 32\n",
    "        print(\"The temperature in Fahrenheit is:\", temp_fahrenheit, \"˚F\")\n",
    "    else:\n",
    "        print(\"Temperature not converted.\")\n",
    "        \n",
    "# Image file path\n",
    "file_single = \"path/to/your/image/file.tif\"\n",
    "# Open the image file using rasterio\n",
    "img_single_opened = rasterio.open(file_single)\n",
    "# Obtain the image data\n",
    "img_array = img_single_opened.read()\n",
    "        \n",
    "def get_image_stats_only(img_array):\n",
    "    raw_stats_dictionary = {'mean': np.mean(img_array),\n",
    "                            'min': np.min(img_array),\n",
    "                            'max': np.max(img_array)}\n",
    "    raw_stats_df = pandas.DataFrame(data = raw_stats_dictionary, index=[0])\n",
    "    return(raw_stats_df)\n",
    "\n",
    "def get_image_variable(file_single):\n",
    "    img_variable = search_criteria.split(\"/\")[0]\n",
    "    return(img_variable)\n",
    "\n",
    "def get_image_time(file_single):\n",
    "    img_product = os.path.basename(file_single).split(\"_\")[0]\n",
    "    return(img_product)\n",
    "\n",
    "def get_image_meta_only(file_single):\n",
    "    img_meta_dictionary = {'TIME': get_image_time(file_single),\n",
    "                           'product': get_image_product (file_single),\n",
    "                           'variable_name': get_img_variable(file_single),\n",
    "                           'file_name': file_single}\n",
    "    raw_meta_dictionary = {'temporary_value': \"a_temporary_metadata_value\",\n",
    "                           'temporary_value1': \"a_temporary_metadata_value1\"}\n",
    "    raw_meta_df = pandas.DataFrame(data = raw_meta_dictionary, index=[0])\n",
    "    raw_meta_dic = pandas.DataFrame(data = img_meta_dictionary, index=[0])\n",
    "    return(raw_meta_df, raw_meta_dic)\n",
    "\n",
    "def get_image_stats(file_single, shp_filename = None):\n",
    "    img_single_opened = rasterio.open(file_single)\n",
    "    if shp_filename is None:\n",
    "        img_single_read = img_single_opened.read(masked = True)\n",
    "    else:\n",
    "        img_single_read = get_mask_raster_array(img_single_opened, shp_filename)\n",
    "    img_stats_raw_df = get_img_stats_only(img_single_read)\n",
    "    img_meta_df = get_image_meta_only(file_single)\n",
    "    img_stats_df = pandas.DataFrame.join(img_stats_raw_df, img_data_df)\n",
    "    return(img_stats_df)\n",
    "\n",
    "def get_mask_raster_array(img_single_opened, shp_filename):\n",
    "    crop_extre"
   ]
  },
  {
   "cell_type": "code",
   "execution_count": 11,
   "metadata": {},
   "outputs": [],
   "source": [
    "def main():\n",
    "    city_widget = select_data()\n",
    "    # create_button(city_widget, date_widget)\n",
    "    #Display\n",
    "    # uv_layer.add_to(MSP_map)\n",
    "    display(MSP_map)\n",
    "    # print(\"Running!!!!!!!\")\n",
    "    print(f\"The current temperature at Minneapolis airport is {temperature}°C.\")\n",
    "    fahrenheit_temperature(api_key)\n",
    "    get_image_stats_only(img_array)\n",
    "    get_image_variable(file_single)\n",
    "    get_image_time(file_single)\n",
    "    get_image_meta_only(file_single)\n",
    "    get_image_stats(file_single, shp_filename = None)"
   ]
  },
  {
   "cell_type": "markdown",
   "metadata": {
    "id": "pyX0qLUK1GDV"
   },
   "source": [
    "## 2.3. Execution\n",
    "### 2.3.1. Run <code>main</code>\n",
    "The code cell(s) below are meant for your exection of your project objective (serving as your MVP). Remember, it should be simple."
   ]
  },
  {
   "cell_type": "code",
   "execution_count": 12,
   "metadata": {
    "id": "NknIW-SV1GDW"
   },
   "outputs": [
    {
     "data": {
      "application/vnd.jupyter.widget-view+json": {
       "model_id": "fd9345922dc84dd59d874b35d6461484",
       "version_major": 2,
       "version_minor": 0
      },
      "text/plain": [
       "Dropdown(description='Select data:', options=('UV Levels', 'Surface Albedo', 'Surface Temperature', 'Populatio…"
      ]
     },
     "metadata": {},
     "output_type": "display_data"
    },
    {
     "data": {
      "text/html": [
       "<div style=\"width:100%;\"><div style=\"position:relative;width:100%;height:0;padding-bottom:60%;\"><span style=\"color:#565656\">Make this Notebook Trusted to load map: File -> Trust Notebook</span><iframe src=\"about:blank\" style=\"position:absolute;width:100%;height:100%;left:0;top:0;border:none !important;\" data-html=%3C%21DOCTYPE%20html%3E%0A%3Chead%3E%20%20%20%20%0A%20%20%20%20%3Cmeta%20http-equiv%3D%22content-type%22%20content%3D%22text/html%3B%20charset%3DUTF-8%22%20/%3E%0A%20%20%20%20%0A%20%20%20%20%20%20%20%20%3Cscript%3E%0A%20%20%20%20%20%20%20%20%20%20%20%20L_NO_TOUCH%20%3D%20false%3B%0A%20%20%20%20%20%20%20%20%20%20%20%20L_DISABLE_3D%20%3D%20false%3B%0A%20%20%20%20%20%20%20%20%3C/script%3E%0A%20%20%20%20%0A%20%20%20%20%3Cstyle%3Ehtml%2C%20body%20%7Bwidth%3A%20100%25%3Bheight%3A%20100%25%3Bmargin%3A%200%3Bpadding%3A%200%3B%7D%3C/style%3E%0A%20%20%20%20%3Cstyle%3E%23map%20%7Bposition%3Aabsolute%3Btop%3A0%3Bbottom%3A0%3Bright%3A0%3Bleft%3A0%3B%7D%3C/style%3E%0A%20%20%20%20%3Cscript%20src%3D%22https%3A//cdn.jsdelivr.net/npm/leaflet%401.6.0/dist/leaflet.js%22%3E%3C/script%3E%0A%20%20%20%20%3Cscript%20src%3D%22https%3A//code.jquery.com/jquery-1.12.4.min.js%22%3E%3C/script%3E%0A%20%20%20%20%3Cscript%20src%3D%22https%3A//maxcdn.bootstrapcdn.com/bootstrap/3.2.0/js/bootstrap.min.js%22%3E%3C/script%3E%0A%20%20%20%20%3Cscript%20src%3D%22https%3A//cdnjs.cloudflare.com/ajax/libs/Leaflet.awesome-markers/2.0.2/leaflet.awesome-markers.js%22%3E%3C/script%3E%0A%20%20%20%20%3Clink%20rel%3D%22stylesheet%22%20href%3D%22https%3A//cdn.jsdelivr.net/npm/leaflet%401.6.0/dist/leaflet.css%22/%3E%0A%20%20%20%20%3Clink%20rel%3D%22stylesheet%22%20href%3D%22https%3A//maxcdn.bootstrapcdn.com/bootstrap/3.2.0/css/bootstrap.min.css%22/%3E%0A%20%20%20%20%3Clink%20rel%3D%22stylesheet%22%20href%3D%22https%3A//maxcdn.bootstrapcdn.com/bootstrap/3.2.0/css/bootstrap-theme.min.css%22/%3E%0A%20%20%20%20%3Clink%20rel%3D%22stylesheet%22%20href%3D%22https%3A//maxcdn.bootstrapcdn.com/font-awesome/4.6.3/css/font-awesome.min.css%22/%3E%0A%20%20%20%20%3Clink%20rel%3D%22stylesheet%22%20href%3D%22https%3A//cdnjs.cloudflare.com/ajax/libs/Leaflet.awesome-markers/2.0.2/leaflet.awesome-markers.css%22/%3E%0A%20%20%20%20%3Clink%20rel%3D%22stylesheet%22%20href%3D%22https%3A//cdn.jsdelivr.net/gh/python-visualization/folium/folium/templates/leaflet.awesome.rotate.min.css%22/%3E%0A%20%20%20%20%0A%20%20%20%20%20%20%20%20%20%20%20%20%3Cmeta%20name%3D%22viewport%22%20content%3D%22width%3Ddevice-width%2C%0A%20%20%20%20%20%20%20%20%20%20%20%20%20%20%20%20initial-scale%3D1.0%2C%20maximum-scale%3D1.0%2C%20user-scalable%3Dno%22%20/%3E%0A%20%20%20%20%20%20%20%20%20%20%20%20%3Cstyle%3E%0A%20%20%20%20%20%20%20%20%20%20%20%20%20%20%20%20%23map_a5fc61a772d7405e830042f25a6a4949%20%7B%0A%20%20%20%20%20%20%20%20%20%20%20%20%20%20%20%20%20%20%20%20position%3A%20relative%3B%0A%20%20%20%20%20%20%20%20%20%20%20%20%20%20%20%20%20%20%20%20width%3A%20100.0%25%3B%0A%20%20%20%20%20%20%20%20%20%20%20%20%20%20%20%20%20%20%20%20height%3A%20100.0%25%3B%0A%20%20%20%20%20%20%20%20%20%20%20%20%20%20%20%20%20%20%20%20left%3A%200.0%25%3B%0A%20%20%20%20%20%20%20%20%20%20%20%20%20%20%20%20%20%20%20%20top%3A%200.0%25%3B%0A%20%20%20%20%20%20%20%20%20%20%20%20%20%20%20%20%7D%0A%20%20%20%20%20%20%20%20%20%20%20%20%3C/style%3E%0A%20%20%20%20%20%20%20%20%0A%3C/head%3E%0A%3Cbody%3E%20%20%20%20%0A%20%20%20%20%0A%20%20%20%20%20%20%20%20%20%20%20%20%3Cdiv%20class%3D%22folium-map%22%20id%3D%22map_a5fc61a772d7405e830042f25a6a4949%22%20%3E%3C/div%3E%0A%20%20%20%20%20%20%20%20%0A%3C/body%3E%0A%3Cscript%3E%20%20%20%20%0A%20%20%20%20%0A%20%20%20%20%20%20%20%20%20%20%20%20var%20map_a5fc61a772d7405e830042f25a6a4949%20%3D%20L.map%28%0A%20%20%20%20%20%20%20%20%20%20%20%20%20%20%20%20%22map_a5fc61a772d7405e830042f25a6a4949%22%2C%0A%20%20%20%20%20%20%20%20%20%20%20%20%20%20%20%20%7B%0A%20%20%20%20%20%20%20%20%20%20%20%20%20%20%20%20%20%20%20%20center%3A%20%5B44.886432909585096%2C%20-93.21572309331059%5D%2C%0A%20%20%20%20%20%20%20%20%20%20%20%20%20%20%20%20%20%20%20%20crs%3A%20L.CRS.EPSG3857%2C%0A%20%20%20%20%20%20%20%20%20%20%20%20%20%20%20%20%20%20%20%20zoom%3A%2011%2C%0A%20%20%20%20%20%20%20%20%20%20%20%20%20%20%20%20%20%20%20%20zoomControl%3A%20true%2C%0A%20%20%20%20%20%20%20%20%20%20%20%20%20%20%20%20%20%20%20%20preferCanvas%3A%20false%2C%0A%20%20%20%20%20%20%20%20%20%20%20%20%20%20%20%20%7D%0A%20%20%20%20%20%20%20%20%20%20%20%20%29%3B%0A%0A%20%20%20%20%20%20%20%20%20%20%20%20%0A%0A%20%20%20%20%20%20%20%20%0A%20%20%20%20%0A%20%20%20%20%20%20%20%20%20%20%20%20var%20tile_layer_7de38a77327e419e9ca1cb3affed81b8%20%3D%20L.tileLayer%28%0A%20%20%20%20%20%20%20%20%20%20%20%20%20%20%20%20%22https%3A//%7Bs%7D.tile.openstreetmap.org/%7Bz%7D/%7Bx%7D/%7By%7D.png%22%2C%0A%20%20%20%20%20%20%20%20%20%20%20%20%20%20%20%20%7B%22attribution%22%3A%20%22Data%20by%20%5Cu0026copy%3B%20%5Cu003ca%20href%3D%5C%22http%3A//openstreetmap.org%5C%22%5Cu003eOpenStreetMap%5Cu003c/a%5Cu003e%2C%20under%20%5Cu003ca%20href%3D%5C%22http%3A//www.openstreetmap.org/copyright%5C%22%5Cu003eODbL%5Cu003c/a%5Cu003e.%22%2C%20%22detectRetina%22%3A%20false%2C%20%22maxNativeZoom%22%3A%2018%2C%20%22maxZoom%22%3A%2018%2C%20%22minZoom%22%3A%200%2C%20%22noWrap%22%3A%20false%2C%20%22opacity%22%3A%201%2C%20%22subdomains%22%3A%20%22abc%22%2C%20%22tms%22%3A%20false%7D%0A%20%20%20%20%20%20%20%20%20%20%20%20%29.addTo%28map_a5fc61a772d7405e830042f25a6a4949%29%3B%0A%20%20%20%20%20%20%20%20%0A%20%20%20%20%0A%20%20%20%20%20%20%20%20%20%20%20%20var%20marker_7fc4b35a80974d1195efd58138db915f%20%3D%20L.marker%28%0A%20%20%20%20%20%20%20%20%20%20%20%20%20%20%20%20%5B44.886432909585096%2C%20-93.21572309331059%5D%2C%0A%20%20%20%20%20%20%20%20%20%20%20%20%20%20%20%20%7B%7D%0A%20%20%20%20%20%20%20%20%20%20%20%20%29.addTo%28map_a5fc61a772d7405e830042f25a6a4949%29%3B%0A%20%20%20%20%20%20%20%20%0A%20%20%20%20%0A%20%20%20%20%20%20%20%20var%20popup_0fefe8938f6f4c40815cbccb215041fb%20%3D%20L.popup%28%7B%22maxWidth%22%3A%20%22100%25%22%7D%29%3B%0A%0A%20%20%20%20%20%20%20%20%0A%20%20%20%20%20%20%20%20%20%20%20%20var%20html_4eb91f45794749e9960aeff1c66dc8a8%20%3D%20%24%28%60%3Cdiv%20id%3D%22html_4eb91f45794749e9960aeff1c66dc8a8%22%20style%3D%22width%3A%20100.0%25%3B%20height%3A%20100.0%25%3B%22%3EMSP%20Airport%3C/div%3E%60%29%5B0%5D%3B%0A%20%20%20%20%20%20%20%20%20%20%20%20popup_0fefe8938f6f4c40815cbccb215041fb.setContent%28html_4eb91f45794749e9960aeff1c66dc8a8%29%3B%0A%20%20%20%20%20%20%20%20%0A%0A%20%20%20%20%20%20%20%20marker_7fc4b35a80974d1195efd58138db915f.bindPopup%28popup_0fefe8938f6f4c40815cbccb215041fb%29%0A%20%20%20%20%20%20%20%20%3B%0A%0A%20%20%20%20%20%20%20%20%0A%20%20%20%20%0A%3C/script%3E onload=\"this.contentDocument.open();this.contentDocument.write(    decodeURIComponent(this.getAttribute('data-html')));this.contentDocument.close();\" allowfullscreen webkitallowfullscreen mozallowfullscreen></iframe></div></div>"
      ],
      "text/plain": [
       "<folium.folium.Map at 0x7fd1dbcdba00>"
      ]
     },
     "metadata": {},
     "output_type": "display_data"
    },
    {
     "name": "stdout",
     "output_type": "stream",
     "text": [
      "The current temperature at Minneapolis airport is 17.06°C.\n"
     ]
    },
    {
     "name": "stdin",
     "output_type": "stream",
     "text": [
      "Would you like to know the temperature in Fahrenheit? Answer 'yes' or 'no' no\n"
     ]
    },
    {
     "name": "stdout",
     "output_type": "stream",
     "text": [
      "Temperature not converted.\n"
     ]
    },
    {
     "ename": "NameError",
     "evalue": "name 'get_image_stats_only' is not defined",
     "output_type": "error",
     "traceback": [
      "\u001b[0;31m---------------------------------------------------------------------------\u001b[0m",
      "\u001b[0;31mNameError\u001b[0m                                 Traceback (most recent call last)",
      "\u001b[0;32m/tmp/ipykernel_86/1723971160.py\u001b[0m in \u001b[0;36m<module>\u001b[0;34m\u001b[0m\n\u001b[1;32m      3\u001b[0m \u001b[0;34m\u001b[0m\u001b[0m\n\u001b[1;32m      4\u001b[0m \u001b[0;32mif\u001b[0m \u001b[0m__name__\u001b[0m \u001b[0;34m==\u001b[0m \u001b[0;34m\"__main__\"\u001b[0m\u001b[0;34m:\u001b[0m\u001b[0;34m\u001b[0m\u001b[0;34m\u001b[0m\u001b[0m\n\u001b[0;32m----> 5\u001b[0;31m     \u001b[0mmain\u001b[0m\u001b[0;34m(\u001b[0m\u001b[0;34m)\u001b[0m\u001b[0;34m\u001b[0m\u001b[0;34m\u001b[0m\u001b[0m\n\u001b[0m\u001b[1;32m      6\u001b[0m \u001b[0;34m\u001b[0m\u001b[0m\n\u001b[1;32m      7\u001b[0m \u001b[0;34m\u001b[0m\u001b[0m\n",
      "\u001b[0;32m/tmp/ipykernel_86/1645795794.py\u001b[0m in \u001b[0;36mmain\u001b[0;34m()\u001b[0m\n\u001b[1;32m      8\u001b[0m     \u001b[0mprint\u001b[0m\u001b[0;34m(\u001b[0m\u001b[0;34mf\"The current temperature at Minneapolis airport is {temperature}°C.\"\u001b[0m\u001b[0;34m)\u001b[0m\u001b[0;34m\u001b[0m\u001b[0;34m\u001b[0m\u001b[0m\n\u001b[1;32m      9\u001b[0m     \u001b[0mfahrenheit_temperature\u001b[0m\u001b[0;34m(\u001b[0m\u001b[0mapi_key\u001b[0m\u001b[0;34m)\u001b[0m\u001b[0;34m\u001b[0m\u001b[0;34m\u001b[0m\u001b[0m\n\u001b[0;32m---> 10\u001b[0;31m     \u001b[0mget_image_stats_only\u001b[0m\u001b[0;34m(\u001b[0m\u001b[0mimg_array\u001b[0m\u001b[0;34m)\u001b[0m\u001b[0;34m\u001b[0m\u001b[0;34m\u001b[0m\u001b[0m\n\u001b[0m\u001b[1;32m     11\u001b[0m     \u001b[0mget_image_variable\u001b[0m\u001b[0;34m(\u001b[0m\u001b[0mfile_single\u001b[0m\u001b[0;34m)\u001b[0m\u001b[0;34m\u001b[0m\u001b[0;34m\u001b[0m\u001b[0m\n\u001b[1;32m     12\u001b[0m     \u001b[0mget_image_time\u001b[0m\u001b[0;34m(\u001b[0m\u001b[0mfile_single\u001b[0m\u001b[0;34m)\u001b[0m\u001b[0;34m\u001b[0m\u001b[0;34m\u001b[0m\u001b[0m\n",
      "\u001b[0;31mNameError\u001b[0m: name 'get_image_stats_only' is not defined"
     ]
    }
   ],
   "source": [
    "# These two lines are standard Python. The first ensures were are the primary (main) thread of execution, \n",
    "# if so, then we call the main function to start our program.\n",
    "\n",
    "if __name__ == \"__main__\":\n",
    "    main()\n",
    "    \n",
    "    "
   ]
  },
  {
   "cell_type": "markdown",
   "metadata": {
    "id": "F-FThgLj1GDW"
   },
   "source": [
    "## 2.4. Rationale\n",
    "Why is this an MVP?\n"
   ]
  },
  {
   "cell_type": "markdown",
   "metadata": {},
   "source": [
    "This project is an MVP because it is a simple yet effective baseline for our final project. Currently, our program is able to create a folium map, draw data from reputable sources, organize and overlap that data over the folium map, and incorporate widgets to create an interactive map. In future, we plan to include more data onto this map, with the end goal to create a fully functional and interactive map that can be used to solve a multitude problems pertaining to the climate."
   ]
  }
 ],
 "metadata": {
  "colab": {
   "provenance": []
  },
  "kernelspec": {
   "display_name": "Python 3 (ipykernel)",
   "language": "python",
   "name": "python3"
  },
  "language_info": {
   "codemirror_mode": {
    "name": "ipython",
    "version": 3
   },
   "file_extension": ".py",
   "mimetype": "text/x-python",
   "name": "python",
   "nbconvert_exporter": "python",
   "pygments_lexer": "ipython3",
   "version": "3.9.7"
  }
 },
 "nbformat": 4,
 "nbformat_minor": 4
}
